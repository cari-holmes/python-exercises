{
 "cells": [
  {
   "cell_type": "code",
   "execution_count": 6,
   "metadata": {},
   "outputs": [
    {
     "data": {
      "text/plain": [
       "0                 kiwi\n",
       "1                mango\n",
       "2           strawberry\n",
       "3            pineapple\n",
       "4           gala apple\n",
       "5     honeycrisp apple\n",
       "6               tomato\n",
       "7           watermelon\n",
       "8             honeydew\n",
       "9                 kiwi\n",
       "10                kiwi\n",
       "11                kiwi\n",
       "12               mango\n",
       "13           blueberry\n",
       "14          blackberry\n",
       "15          gooseberry\n",
       "16              papaya\n",
       "dtype: object"
      ]
     },
     "execution_count": 6,
     "metadata": {},
     "output_type": "execute_result"
    }
   ],
   "source": [
    "import pandas as pd\n",
    "\n",
    "#1. Use pandas to create a Series from the following data: [\"kiwi\", \"mango\", \"strawberry\", \"pineapple\", \"gala apple\", \"honeycrisp apple\", \"tomato\", \"watermelon\", \"honeydew\", \"kiwi\", \"kiwi\", \"kiwi\", \"mango\", \"blueberry\", \"blackberry\", \"gooseberry\", \"papaya\"]\n",
    "pd.Series([\"kiwi\", \"mango\", \"strawberry\", \"pineapple\", \"gala apple\", \"honeycrisp apple\", \"tomato\", \"watermelon\", \"honeydew\", \"kiwi\", \"kiwi\", \"kiwi\", \"mango\", \"blueberry\", \"blackberry\", \"gooseberry\", \"papaya\"])\n"
   ]
  },
  {
   "cell_type": "code",
   "execution_count": 7,
   "metadata": {},
   "outputs": [
    {
     "data": {
      "text/plain": [
       "0                 kiwi\n",
       "1                mango\n",
       "2           strawberry\n",
       "3            pineapple\n",
       "4           gala apple\n",
       "5     honeycrisp apple\n",
       "6               tomato\n",
       "7           watermelon\n",
       "8             honeydew\n",
       "9                 kiwi\n",
       "10                kiwi\n",
       "11                kiwi\n",
       "12               mango\n",
       "13           blueberry\n",
       "14          blackberry\n",
       "15          gooseberry\n",
       "16              papaya\n",
       "dtype: object"
      ]
     },
     "execution_count": 7,
     "metadata": {},
     "output_type": "execute_result"
    }
   ],
   "source": [
    "#A. Name the variable that holds the series fruits.\n",
    "fruits = pd.Series([\"kiwi\", \"mango\", \"strawberry\", \"pineapple\", \"gala apple\", \"honeycrisp apple\", \"tomato\", \"watermelon\", \"honeydew\", \"kiwi\", \"kiwi\", \"kiwi\", \"mango\", \"blueberry\", \"blackberry\", \"gooseberry\", \"papaya\"])\n",
    "fruits"
   ]
  },
  {
   "cell_type": "code",
   "execution_count": 8,
   "metadata": {},
   "outputs": [
    {
     "data": {
      "text/plain": [
       "count       17\n",
       "unique      13\n",
       "top       kiwi\n",
       "freq         4\n",
       "dtype: object"
      ]
     },
     "execution_count": 8,
     "metadata": {},
     "output_type": "execute_result"
    }
   ],
   "source": [
    "#B. Run .describe() on the series to see what describe returns for a series of strings.\n",
    "fruits.describe()"
   ]
  },
  {
   "cell_type": "code",
   "execution_count": 9,
   "metadata": {},
   "outputs": [
    {
     "data": {
      "text/plain": [
       "array(['kiwi', 'mango', 'strawberry', 'pineapple', 'gala apple',\n",
       "       'honeycrisp apple', 'tomato', 'watermelon', 'honeydew',\n",
       "       'blueberry', 'blackberry', 'gooseberry', 'papaya'], dtype=object)"
      ]
     },
     "execution_count": 9,
     "metadata": {},
     "output_type": "execute_result"
    }
   ],
   "source": [
    "#C. Run the code necessary to produce only the unique fruit names.\n",
    "fruits.unique()"
   ]
  },
  {
   "cell_type": "code",
   "execution_count": 10,
   "metadata": {},
   "outputs": [
    {
     "data": {
      "text/plain": [
       "kiwi                4\n",
       "mango               2\n",
       "gooseberry          1\n",
       "blueberry           1\n",
       "gala apple          1\n",
       "strawberry          1\n",
       "honeydew            1\n",
       "blackberry          1\n",
       "tomato              1\n",
       "honeycrisp apple    1\n",
       "pineapple           1\n",
       "watermelon          1\n",
       "papaya              1\n",
       "dtype: int64"
      ]
     },
     "execution_count": 10,
     "metadata": {},
     "output_type": "execute_result"
    }
   ],
   "source": [
    "#D. Determine how many times each value occurs in the series.\n",
    "fruits.value_counts()"
   ]
  },
  {
   "cell_type": "code",
   "execution_count": 11,
   "metadata": {},
   "outputs": [
    {
     "data": {
      "text/plain": [
       "'kiwi'"
      ]
     },
     "execution_count": 11,
     "metadata": {},
     "output_type": "execute_result"
    }
   ],
   "source": [
    "#E. Determine the most frequently occurring fruit name from the series.\n",
    "#most_frequent = fruits.value_counts().max() #gives us back the highest value\n",
    "fruit = fruits.value_counts().idxmax()\n",
    "fruit\n",
    "#fruits.mode()"
   ]
  },
  {
   "cell_type": "code",
   "execution_count": 12,
   "metadata": {},
   "outputs": [
    {
     "data": {
      "text/plain": [
       "gooseberry          1\n",
       "blueberry           1\n",
       "gala apple          1\n",
       "strawberry          1\n",
       "honeydew            1\n",
       "blackberry          1\n",
       "tomato              1\n",
       "honeycrisp apple    1\n",
       "pineapple           1\n",
       "watermelon          1\n",
       "papaya              1\n",
       "dtype: int64"
      ]
     },
     "execution_count": 12,
     "metadata": {},
     "output_type": "execute_result"
    }
   ],
   "source": [
    "#F. Determine the least frequently occurring fruit name from the series.\n",
    "least_frequent = fruits.value_counts().min() #gives us back lowest value\n",
    "#fruits.value_counts().idxmin()\n",
    "fruits.value_counts()[fruits.value_counts() == least_frequent] # comparing the value count to the lowest value count"
   ]
  },
  {
   "cell_type": "code",
   "execution_count": 13,
   "metadata": {},
   "outputs": [
    {
     "data": {
      "text/plain": [
       "'honeycrisp apple'"
      ]
     },
     "execution_count": 13,
     "metadata": {},
     "output_type": "execute_result"
    }
   ],
   "source": [
    "#G. Write the code to get the longest string from the fruits series.\n",
    "#.idmax()\n",
    "fruit_name = fruits.unique()\n",
    "fruit_name = pd.Series(fruit_name)\n",
    "length = fruit_name.str.len().max()\n",
    "index = fruit_name.str.len().idxmax()\n",
    "longest_string = fruit_name[index]\n",
    "longest_string"
   ]
  },
  {
   "cell_type": "code",
   "execution_count": 14,
   "metadata": {},
   "outputs": [
    {
     "data": {
      "text/plain": [
       "1                mango\n",
       "2           strawberry\n",
       "3            pineapple\n",
       "4           gala apple\n",
       "5     honeycrisp apple\n",
       "6               tomato\n",
       "7           watermelon\n",
       "8             honeydew\n",
       "12               mango\n",
       "13           blueberry\n",
       "14          blackberry\n",
       "15          gooseberry\n",
       "16              papaya\n",
       "dtype: object"
      ]
     },
     "execution_count": 14,
     "metadata": {},
     "output_type": "execute_result"
    }
   ],
   "source": [
    "#H. Find the fruit(s) with 5 or more letters in the name.\n",
    "fruits[fruits.apply(lambda x: len(x) >= 5)]"
   ]
  },
  {
   "cell_type": "code",
   "execution_count": 15,
   "metadata": {},
   "outputs": [
    {
     "data": {
      "text/plain": [
       "0                 Kiwi\n",
       "1                Mango\n",
       "2           Strawberry\n",
       "3            Pineapple\n",
       "4           Gala apple\n",
       "5     Honeycrisp apple\n",
       "6               Tomato\n",
       "7           Watermelon\n",
       "8             Honeydew\n",
       "9                 Kiwi\n",
       "10                Kiwi\n",
       "11                Kiwi\n",
       "12               Mango\n",
       "13           Blueberry\n",
       "14          Blackberry\n",
       "15          Gooseberry\n",
       "16              Papaya\n",
       "dtype: object"
      ]
     },
     "execution_count": 15,
     "metadata": {},
     "output_type": "execute_result"
    }
   ],
   "source": [
    "#I. Capitalize all the fruit strings in the series.\n",
    "fruits.str.capitalize()"
   ]
  },
  {
   "cell_type": "code",
   "execution_count": 16,
   "metadata": {},
   "outputs": [
    {
     "data": {
      "text/plain": [
       "[('kiwi', 0),\n",
       " ('mango', 1),\n",
       " ('strawberry', 1),\n",
       " ('pineapple', 1),\n",
       " ('gala apple', 3),\n",
       " ('honeycrisp apple', 1),\n",
       " ('tomato', 1),\n",
       " ('watermelon', 1),\n",
       " ('honeydew', 0),\n",
       " ('blueberry', 0),\n",
       " ('blackberry', 0),\n",
       " ('gooseberry', 0),\n",
       " ('papaya', 1)]"
      ]
     },
     "execution_count": 16,
     "metadata": {},
     "output_type": "execute_result"
    }
   ],
   "source": [
    "#J. Count the letter \"a\" in all the fruits (use string vectorization)\n",
    "def count_a(word):\n",
    "    return word.count('a')\n",
    "fruits.apply(count_a)   \n",
    "\n",
    "counts = fruits.str.count('a')\n",
    "fruit_name\n",
    "list(zip(fruit_name, counts))"
   ]
  },
  {
   "cell_type": "code",
   "execution_count": 17,
   "metadata": {},
   "outputs": [
    {
     "data": {
      "text/plain": [
       "0     2\n",
       "1     2\n",
       "2     2\n",
       "3     4\n",
       "4     4\n",
       "5     5\n",
       "6     3\n",
       "7     4\n",
       "8     3\n",
       "9     2\n",
       "10    2\n",
       "11    2\n",
       "12    2\n",
       "13    3\n",
       "14    2\n",
       "15    4\n",
       "16    3\n",
       "dtype: int64"
      ]
     },
     "execution_count": 17,
     "metadata": {},
     "output_type": "execute_result"
    }
   ],
   "source": [
    "#K. Output the number of vowels in each and every fruit.\n",
    "def count_vowels(word):\n",
    "    count = 0\n",
    "    for letter in word:\n",
    "        if letter in \"aeiou\":\n",
    "            count += 1\n",
    "    return count\n",
    "\n",
    "fruits.apply(count_vowels)"
   ]
  },
  {
   "cell_type": "code",
   "execution_count": 18,
   "metadata": {},
   "outputs": [
    {
     "data": {
      "text/plain": [
       "6         tomato\n",
       "15    gooseberry\n",
       "dtype: object"
      ]
     },
     "execution_count": 18,
     "metadata": {},
     "output_type": "execute_result"
    }
   ],
   "source": [
    "#L.Use the .apply method and a lambda function to find the fruit(s) containing two or more \"o\" letters in the name.\n",
    "fruits.apply(lambda x: x.count('o') >= 2)\n",
    "fruits[fruits.apply(lambda x: x.count('o') >= 2)]"
   ]
  },
  {
   "cell_type": "code",
   "execution_count": 19,
   "metadata": {},
   "outputs": [
    {
     "data": {
      "text/plain": [
       "2     strawberry\n",
       "13     blueberry\n",
       "14    blackberry\n",
       "15    gooseberry\n",
       "dtype: object"
      ]
     },
     "execution_count": 19,
     "metadata": {},
     "output_type": "execute_result"
    }
   ],
   "source": [
    "#M. Write the code to get only the fruits containing \"berry\" in the name\n",
    "fruits[fruits.str.contains('berry')]"
   ]
  },
  {
   "cell_type": "code",
   "execution_count": 20,
   "metadata": {},
   "outputs": [
    {
     "data": {
      "text/plain": [
       "3           pineapple\n",
       "4          gala apple\n",
       "5    honeycrisp apple\n",
       "dtype: object"
      ]
     },
     "execution_count": 20,
     "metadata": {},
     "output_type": "execute_result"
    }
   ],
   "source": [
    "#N. Write the code to get only the fruits containing \"apple\" in the name\n",
    "fruits[fruits.str.contains('apple')]"
   ]
  },
  {
   "cell_type": "code",
   "execution_count": 28,
   "metadata": {},
   "outputs": [
    {
     "data": {
      "text/plain": [
       "('honeycrisp apple', 5)"
      ]
     },
     "execution_count": 28,
     "metadata": {},
     "output_type": "execute_result"
    }
   ],
   "source": [
    "#O. Which fruit has the highest amount of vowels?\n",
    "fruits[fruits.apply(count_vowels).max()], fruits.apply(count_vowels).max()"
   ]
  },
  {
   "cell_type": "code",
   "execution_count": 29,
   "metadata": {},
   "outputs": [
    {
     "data": {
      "text/plain": [
       "0       $796,459.41\n",
       "1           $278.60\n",
       "2       $482,571.67\n",
       "3     $4,503,915.98\n",
       "4      $2,121,418.3\n",
       "5      $1,260,813.3\n",
       "6        $87,231.01\n",
       "7     $1,509,175.45\n",
       "8     $4,138,548.00\n",
       "9     $2,848,913.80\n",
       "10      $594,715.39\n",
       "11    $4,789,988.17\n",
       "12     $4,513,644.5\n",
       "13    $3,191,059.97\n",
       "14    $1,758,712.24\n",
       "15    $4,338,283.54\n",
       "16    $4,738,303.38\n",
       "17    $2,791,759.67\n",
       "18      $769,681.94\n",
       "19      $452,650.23\n",
       "dtype: object"
      ]
     },
     "execution_count": 29,
     "metadata": {},
     "output_type": "execute_result"
    }
   ],
   "source": [
    "#2. Use pandas to create a Series from the following data: ['$796,459.41', '$278.60', '$482,571.67', '$4,503,915.98', '$2,121,418.3', '$1,260,813.3', '$87,231.01', '$1,509,175.45', '$4,138,548.00', '$2,848,913.80', '$594,715.39', '$4,789,988.17', '$4,513,644.5', '$3,191,059.97', '$1,758,712.24', '$4,338,283.54', '$4,738,303.38', '$2,791,759.67', '$769,681.94', '$452,650.23']\n",
    "amount = pd.Series(['$796,459.41', '$278.60', '$482,571.67', '$4,503,915.98', '$2,121,418.3', '$1,260,813.3', '$87,231.01', '$1,509,175.45', '$4,138,548.00', '$2,848,913.80', '$594,715.39', '$4,789,988.17', '$4,513,644.5', '$3,191,059.97', '$1,758,712.24', '$4,338,283.54', '$4,738,303.38', '$2,791,759.67', '$769,681.94', '$452,650.23'])\n",
    "amount"
   ]
  },
  {
   "cell_type": "code",
   "execution_count": 30,
   "metadata": {},
   "outputs": [
    {
     "data": {
      "text/plain": [
       "dtype('O')"
      ]
     },
     "execution_count": 30,
     "metadata": {},
     "output_type": "execute_result"
    }
   ],
   "source": [
    "#A. What is the data type of the series?\n",
    "amount.dtype"
   ]
  },
  {
   "cell_type": "code",
   "execution_count": 67,
   "metadata": {},
   "outputs": [
    {
     "data": {
      "text/plain": [
       "0      796459.41\n",
       "1         278.60\n",
       "2      482571.67\n",
       "3     4503915.98\n",
       "4     2121418.30\n",
       "5     1260813.30\n",
       "6       87231.01\n",
       "7     1509175.45\n",
       "8     4138548.00\n",
       "9     2848913.80\n",
       "10     594715.39\n",
       "11    4789988.17\n",
       "12    4513644.50\n",
       "13    3191059.97\n",
       "14    1758712.24\n",
       "15    4338283.54\n",
       "16    4738303.38\n",
       "17    2791759.67\n",
       "18     769681.94\n",
       "19     452650.23\n",
       "dtype: float64"
      ]
     },
     "execution_count": 67,
     "metadata": {},
     "output_type": "execute_result"
    }
   ],
   "source": [
    "#B. Use series operations to convert the series to a numeric data type.\n",
    "replace_char = amount.str.replace('$', \"\").str.replace(',', '')\n",
    "replace_char\n",
    "new_amount = replace_char.astype(float)\n",
    "new_amount.dtype\n",
    "new_amount"
   ]
  },
  {
   "cell_type": "code",
   "execution_count": 82,
   "metadata": {},
   "outputs": [
    {
     "name": "stdout",
     "output_type": "stream",
     "text": [
      "max amount: 4789988.17\n",
      "min amount: 278.6\n"
     ]
    }
   ],
   "source": [
    "#C. What is the maximum value? The minimum?\n",
    "print(\"max amount:\", new_amount.max())\n",
    "print(\"min amount:\", new_amount.min())"
   ]
  },
  {
   "cell_type": "code",
   "execution_count": 73,
   "metadata": {},
   "outputs": [
    {
     "data": {
      "text/plain": [
       "0        (-4511.11, 1197705.993]\n",
       "1        (-4511.11, 1197705.993]\n",
       "2        (-4511.11, 1197705.993]\n",
       "3      (3592560.778, 4789988.17]\n",
       "4     (1197705.993, 2395133.385]\n",
       "5     (1197705.993, 2395133.385]\n",
       "6        (-4511.11, 1197705.993]\n",
       "7     (1197705.993, 2395133.385]\n",
       "8      (3592560.778, 4789988.17]\n",
       "9     (2395133.385, 3592560.778]\n",
       "10       (-4511.11, 1197705.993]\n",
       "11     (3592560.778, 4789988.17]\n",
       "12     (3592560.778, 4789988.17]\n",
       "13    (2395133.385, 3592560.778]\n",
       "14    (1197705.993, 2395133.385]\n",
       "15     (3592560.778, 4789988.17]\n",
       "16     (3592560.778, 4789988.17]\n",
       "17    (2395133.385, 3592560.778]\n",
       "18       (-4511.11, 1197705.993]\n",
       "19       (-4511.11, 1197705.993]\n",
       "dtype: category\n",
       "Categories (4, interval[float64]): [(-4511.11, 1197705.993] < (1197705.993, 2395133.385] < (2395133.385, 3592560.778] < (3592560.778, 4789988.17]]"
      ]
     },
     "execution_count": 73,
     "metadata": {},
     "output_type": "execute_result"
    }
   ],
   "source": [
    "#D. Bin the data into 4 equally sized intervals and show how many values fall into each bin.\n",
    "cut = pd.cut(new_amount, 4)\n",
    "cut"
   ]
  },
  {
   "cell_type": "code",
   "execution_count": 91,
   "metadata": {},
   "outputs": [
    {
     "data": {
      "text/plain": [
       "<matplotlib.axes._subplots.AxesSubplot at 0x1167476a0>"
      ]
     },
     "execution_count": 91,
     "metadata": {},
     "output_type": "execute_result"
    },
    {
     "data": {
      "image/png": "[encoded data removed]",
      "text/plain": [
       "<Figure size 432x288 with 1 Axes>"
      ]
     },
     "metadata": {
      "needs_background": "light"
     },
     "output_type": "display_data"
    }
   ],
   "source": [
    "##E. Plot a histogram of the data. Be sure to include a title and axis labels.\n",
    "import matplotlib as plt\n",
    "new_amount.plot.hist()\n"
   ]
  },
  {
   "cell_type": "code",
   "execution_count": 83,
   "metadata": {},
   "outputs": [
    {
     "data": {
      "text/plain": [
       "0     60\n",
       "1     86\n",
       "2     75\n",
       "3     62\n",
       "4     93\n",
       "5     71\n",
       "6     60\n",
       "7     83\n",
       "8     95\n",
       "9     78\n",
       "10    65\n",
       "11    72\n",
       "12    69\n",
       "13    81\n",
       "14    96\n",
       "15    80\n",
       "16    85\n",
       "17    92\n",
       "18    82\n",
       "19    78\n",
       "dtype: int64"
      ]
     },
     "execution_count": 83,
     "metadata": {},
     "output_type": "execute_result"
    }
   ],
   "source": [
    "#3. Use pandas to create a Series from the following exam scores: [60, 86, 75, 62, 93, 71, 60, 83, 95, 78, 65, 72, 69, 81, 96, 80, 85, 92, 82, 78]\n",
    "scores = pd.Series([60, 86, 75, 62, 93, 71, 60, 83, 95, 78, 65, 72, 69, 81, 96, 80, 85, 92, 82, 78])\n",
    "scores"
   ]
  },
  {
   "cell_type": "code",
   "execution_count": 84,
   "metadata": {},
   "outputs": [
    {
     "name": "stdout",
     "output_type": "stream",
     "text": [
      "max scores: 60\n",
      "min scores: 96\n",
      "mean scores: 78.15\n",
      "median scores: 79.0\n"
     ]
    }
   ],
   "source": [
    "#A. What is the minimum exam score? The max, mean, median?\n",
    "print(\"max scores:\", scores.min())\n",
    "print(\"min scores:\", scores.max())\n",
    "print(\"mean scores:\", scores.mean())\n",
    "print(\"median scores:\", scores.median())"
   ]
  },
  {
   "cell_type": "code",
   "execution_count": 85,
   "metadata": {
    "scrolled": true
   },
   "outputs": [
    {
     "data": {
      "text/plain": [
       "<matplotlib.axes._subplots.AxesSubplot at 0x1163cef98>"
      ]
     },
     "execution_count": 85,
     "metadata": {},
     "output_type": "execute_result"
    },
    {
     "data": {
      "image/png": "[encoded data removed]",
      "text/plain": [
       "<Figure size 432x288 with 1 Axes>"
      ]
     },
     "metadata": {
      "needs_background": "light"
     },
     "output_type": "display_data"
    }
   ],
   "source": [
    "#B. Plot a histogram of the scores.\n",
    "import matplotlib as plt\n",
    "scores.plot.hist()"
   ]
  },
  {
   "cell_type": "code",
   "execution_count": 166,
   "metadata": {},
   "outputs": [],
   "source": [
    "##C. Convert each of the numbers above into a letter grade. For example, 86 should be a 'B' and 95 should be an 'A'.\n",
    "# bins = [100-90, 89-80, 79-70, 69-60, 59]\n",
    "# letter_grade = ['A', 'B', 'C', 'D', 'F']"
   ]
  },
  {
   "cell_type": "code",
   "execution_count": null,
   "metadata": {},
   "outputs": [],
   "source": [
    "##D. Write the code necessary to implement a curve. I.e. that grade closest to 100 should be converted to a 100, and that many points should be given to every other score as well.\n"
   ]
  },
  {
   "cell_type": "code",
   "execution_count": 107,
   "metadata": {},
   "outputs": [
    {
     "data": {
      "text/plain": [
       "0      h\n",
       "1      n\n",
       "2      v\n",
       "3      i\n",
       "4      d\n",
       "5      d\n",
       "6      u\n",
       "7      c\n",
       "8      k\n",
       "9      k\n",
       "10     q\n",
       "11     x\n",
       "12     w\n",
       "13     y\n",
       "14     m\n",
       "15     b\n",
       "16     i\n",
       "17     m\n",
       "18     k\n",
       "19     c\n",
       "20     c\n",
       "21     e\n",
       "22     x\n",
       "23     b\n",
       "24     k\n",
       "25     m\n",
       "26     q\n",
       "27     y\n",
       "28     g\n",
       "29     k\n",
       "      ..\n",
       "170    g\n",
       "171    j\n",
       "172    w\n",
       "173    u\n",
       "174    p\n",
       "175    g\n",
       "176    z\n",
       "177    h\n",
       "178    i\n",
       "179    o\n",
       "180    f\n",
       "181    o\n",
       "182    h\n",
       "183    a\n",
       "184    w\n",
       "185    y\n",
       "186    t\n",
       "187    l\n",
       "188    s\n",
       "189    i\n",
       "190    y\n",
       "191    e\n",
       "192    c\n",
       "193    u\n",
       "194    p\n",
       "195    r\n",
       "196    o\n",
       "197    g\n",
       "198    u\n",
       "199    y\n",
       "Length: 200, dtype: object"
      ]
     },
     "execution_count": 107,
     "metadata": {},
     "output_type": "execute_result"
    }
   ],
   "source": [
    "#4. Use pandas to create a Series from the following string: 'hnvidduckkqxwymbimkccexbkmqygkxoyndmcxnwqarhyffsjpsrabtjzsypmzadfavyrnndndvswreauxovncxtwzpwejilzjrmmbbgbyxvjtewqthafnbkqplarokkyydtubbmnexoypulzwfhqvckdpqtpoppzqrmcvhhpwgjwupgzhiofohawytlsiyecuproguy'\n",
    "long_string = pd.Series(list('hnvidduckkqxwymbimkccexbkmqygkxoyndmcxnwqarhyffsjpsrabtjzsypmzadfavyrnndndvswreauxovncxtwzpwejilzjrmmbbgbyxvjtewqthafnbkqplarokkyydtubbmnexoypulzwfhqvckdpqtpoppzqrmcvhhpwgjwupgzhiofohawytlsiyecuproguy'))\n",
    "long_string"
   ]
  },
  {
   "cell_type": "code",
   "execution_count": 170,
   "metadata": {},
   "outputs": [
    {
     "name": "stdout",
     "output_type": "stream",
     "text": [
      "y : 13\n",
      "d : 4\n"
     ]
    }
   ],
   "source": [
    "#A. What is the most frequently occuring letter? Least frequently occuring?\n",
    "frequencies = long_string.value_counts()\n",
    "most = frequencies.max()\n",
    "least = frequencies.min()\n",
    "print(long_string[frequencies.max()], \":\" , most)\n",
    "print(long_string[frequencies.min()], \":\" , least)"
   ]
  },
  {
   "cell_type": "code",
   "execution_count": 141,
   "metadata": {},
   "outputs": [
    {
     "data": {
      "text/plain": [
       "34"
      ]
     },
     "execution_count": 141,
     "metadata": {},
     "output_type": "execute_result"
    }
   ],
   "source": [
    "#B. How many vowels are in the list?\n",
    "def count_vowels(word):\n",
    "    count = 0\n",
    "    for letter in word:\n",
    "        if letter in \"aeiou\":\n",
    "            count += 1\n",
    "    return count\n",
    "vowels = long_string.apply(count_vowels)\n",
    "vowels.sum()"
   ]
  },
  {
   "cell_type": "code",
   "execution_count": 142,
   "metadata": {},
   "outputs": [
    {
     "data": {
      "text/plain": [
       "166"
      ]
     },
     "execution_count": 142,
     "metadata": {},
     "output_type": "execute_result"
    }
   ],
   "source": [
    "#C. How many consonants are in the list?\n",
    "def count_consonants(word):\n",
    "    count = 0\n",
    "    for letter in word:\n",
    "        if letter not in \"aeiou\":\n",
    "            count += 1\n",
    "    return count\n",
    "consonants = long_string.apply(count_consonants)\n",
    "consonants.sum()"
   ]
  },
  {
   "cell_type": "code",
   "execution_count": 150,
   "metadata": {},
   "outputs": [],
   "source": [
    "##D. Create a series that has all of the same letters, but uppercased\n"
   ]
  },
  {
   "cell_type": "code",
   "execution_count": 171,
   "metadata": {},
   "outputs": [
    {
     "data": {
      "text/plain": [
       "<matplotlib.axes._subplots.AxesSubplot at 0x116cac0f0>"
      ]
     },
     "execution_count": 171,
     "metadata": {},
     "output_type": "execute_result"
    },
    {
     "data": {
      "image/png": "[encoded data removed]",
      "text/plain": [
       "<Figure size 432x288 with 1 Axes>"
      ]
     },
     "metadata": {
      "needs_background": "light"
     },
     "output_type": "display_data"
    }
   ],
   "source": [
    "##E. Create a bar plot of the frequencies of the 6 most frequently occuring letters.\n",
    "import matplotlib as plt\n",
    "graph = long_string.value_counts().head(6)\n",
    "graph.plot.bar()"
   ]
  }
 ],
 "metadata": {
  "kernelspec": {
   "display_name": "Python 3",
   "language": "python",
   "name": "python3"
  },
  "language_info": {
   "codemirror_mode": {
    "name": "ipython",
    "version": 3
   },
   "file_extension": ".py",
   "mimetype": "text/x-python",
   "name": "python",
   "nbconvert_exporter": "python",
   "pygments_lexer": "ipython3",
   "version": "3.7.3"
  }
 },
 "nbformat": 4,
 "nbformat_minor": 2
}
